{
 "cells": [
  {
   "cell_type": "markdown",
   "metadata": {},
   "source": [
    "# Run Open WebUI Locally\n",
    "\n",
    "This notebook helps you run Open WebUI locally without Docker. It will:\n",
    "\n",
    "1. Set up the Python environment\n",
    "2. Install required dependencies\n",
    "3. Configure environment variables\n",
    "4. Start the FastAPI server\n",
    "\n",
    "**Note:** This notebook requires Python 3.11 for compatibility with Open WebUI."
   ]
  },
  {
   "cell_type": "markdown",
   "metadata": {},
   "source": [
    "## 1. Check Python Version\n",
    "\n",
    "First, let's verify we're using Python 3.11 as required by Open WebUI."
   ]
  },
  {
   "cell_type": "code",
   "execution_count": null,
   "metadata": {},
   "outputs": [],
   "source": [
    "import sys\n",
    "print(f\"Python version: {sys.version}\")\n",
    "\n",
    "# Check if Python version is 3.11.x\n",
    "if not (sys.version_info.major == 3 and sys.version_info.minor == 11):\n",
    "    print(\"WARNING: Open WebUI requires Python 3.11. You may encounter compatibility issues.\")\n"
   ]
  },
  {
   "cell_type": "markdown",
   "metadata": {},
   "source": [
    "## 2. Install Dependencies\n",
    "\n",
    "Now, let's install the required dependencies for Open WebUI. This may take a few minutes."
   ]
  },
  {
   "cell_type": "code",
   "execution_count": null,
   "metadata": {},
   "outputs": [],
   "source": [
    "import subprocess\n",
    "import os\n",
    "import sys\n",
    "\n",
    "# Get the current directory\n",
    "current_dir = os.getcwd()\n",
    "backend_dir = os.path.join(current_dir, 'backend')\n",
    "requirements_file = os.path.join(backend_dir, 'requirements.txt')\n",
    "\n",
    "# Check if requirements.txt exists\n",
    "if os.path.exists(requirements_file):\n",
    "    print(f\"Installing dependencies from {requirements_file}...\")\n",
    "    try:\n",
    "        # Install dependencies\n",
    "        subprocess.check_call([sys.executable, '-m', 'pip', 'install', '-r', requirements_file])\n",
    "        print(\"Dependencies installed successfully!\")\n",
    "    except subprocess.CalledProcessError as e:\n",
    "        print(f\"Error installing dependencies: {e}\")\n",
    "else:\n",
    "    print(f\"Error: {requirements_file} not found. Make sure you're running this notebook from the Open WebUI root directory.\")\n"
   ]
  },
  {
   "cell_type": "markdown",
   "metadata": {},
   "source": [
    "## 3. Configure Environment Variables\n",
    "\n",
    "Set up the necessary environment variables for Open WebUI. You can customize these based on your needs."
   ]
  },
  {
   "cell_type": "code",
   "execution_count": null,
   "metadata": {},
   "outputs": [],
   "source": [
    "import os\n",
    "import secrets\n",
    "\n",
    "# Set environment variables\n",
    "os.environ['HOST'] = '127.0.0.1'  # Use localhost\n",
    "os.environ['PORT'] = '8080'      # Default port\n",
    "\n",
    "# Generate a random secret key if not already set\n",
    "if 'WEBUI_SECRET_KEY' not in os.environ:\n",
    "    os.environ['WEBUI_SECRET_KEY'] = secrets.token_hex(16)\n",
    "    print(f\"Generated WEBUI_SECRET_KEY: {os.environ['WEBUI_SECRET_KEY']}\")\n",
    "\n",
    "# Optional: Configure OpenAI API (uncomment and set your key if needed)\n",
    "# os.environ['OPENAI_API_KEY'] = 'your-openai-api-key'\n",
    "\n",
    "# Optional: Configure Ollama (uncomment if you're using Ollama)\n",
    "# os.environ['OLLAMA_BASE_URL'] = 'http://localhost:11434'\n",
    "\n",
    "print(\"Environment variables configured successfully!\")\n"
   ]
  },
  {
   "cell_type": "markdown",
   "metadata": {},
   "source": [
    "## 4. Start the Open WebUI Server\n",
    "\n",
    "Now, let's start the Open WebUI server. This will run the FastAPI application that powers Open WebUI.\n",
    "\n",
    "**Note:** This cell will keep running until you stop it manually. To access the UI, open http://127.0.0.1:8080 in your browser."
   ]
  },
  {
   "cell_type": "code",
   "execution_count": null,
   "metadata": {},
   "outputs": [],
   "source": [
    "import sys\n",
    "import os\n",
    "import uvicorn\n",
    "\n",
    "# Add the backend directory to the Python path\n",
    "current_dir = os.getcwd()\n",
    "backend_dir = os.path.join(current_dir, 'backend')\n",
    "if backend_dir not in sys.path:\n",
    "    sys.path.append(backend_dir)\n",
    "\n",
    "# Change to the backend directory\n",
    "os.chdir(backend_dir)\n",
    "\n",
    "try:\n",
    "    print(\"Starting Open WebUI server...\")\n",
    "    print(f\"Open WebUI will be available at http://{os.environ['HOST']}:{os.environ['PORT']}\")\n",
    "    print(\"Press Ctrl+C to stop the server\")\n",
    "    \n",
    "    # Start the server\n",
    "    uvicorn.run(\n",
    "        'open_webui.main:app',\n",
    "        host=os.environ['HOST'],\n",
    "        port=int(os.environ['PORT']),\n",
    "        reload=False\n",
    "    )\n",
    "except KeyboardInterrupt:\n",
    "    print(\"Server stopped\")\n",
    "except Exception as e:\n",
    "    print(f\"Error starting server: {e}\")\n",
    "finally:\n",
    "    # Change back to the original directory\n",
    "    os.chdir(current_dir)\n"
   ]
  },
  {
   "cell_type": "markdown",
   "metadata": {},
   "source": [
    "## Troubleshooting\n",
    "\n",
    "If you encounter any issues, here are some common troubleshooting steps:\n",
    "\n",
    "1. **Port already in use**: If port 8080 is already in use, change the `PORT` environment variable to a different port.\n",
    "\n",
    "2. **Missing dependencies**: If you encounter missing dependencies, try installing them manually:\n",
    "   ```python\n",
    "   !pip install <package-name>\n",
    "   ```\n",
    "\n",
    "3. **Database errors**: Open WebUI uses SQLite by default. If you encounter database errors, make sure the `backend/data` directory exists and is writable.\n",
    "\n",
    "4. **Python version**: Make sure you're using Python 3.11 as required by Open WebUI.\n",
    "\n",
    "5. **Path issues**: If you encounter import errors, make sure the notebook is being run from the Open WebUI root directory."
   ]
  }
 ],
 "metadata": {
  "kernelspec": {
   "display_name": "Python 3",
   "language": "python",
   "name": "python3"
  },
  "language_info": {
   "codemirror_mode": {
    "name": "ipython",
    "version": 3
   },
   "file_extension": ".py",
   "mimetype": "text/x-python",
   "name": "python",
   "nbconvert_exporter": "python",
   "pygments_lexer": "ipython3",
   "version": "3.11.0"
  }
 },
 "nbformat": 4,
 "nbformat_minor": 2
}
